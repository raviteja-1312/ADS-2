{
 "cells": [
  {
   "cell_type": "markdown",
   "metadata": {},
   "source": [
    "NAME: Raviteja Ruttala\n",
    "\n",
    "\n",
    "ID Number : 21031957"
   ]
  },
  {
   "cell_type": "code",
   "execution_count": 160,
   "metadata": {
    "collapsed": true,
    "jupyter": {
     "outputs_hidden": true
    },
    "tags": []
   },
   "outputs": [
    {
     "name": "stdout",
     "output_type": "stream",
     "text": [
      "Requirement already satisfied: wbgapi in /storage/anaconda/lib/python3.9/site-packages (1.0.7)\n",
      "Requirement already satisfied: tabulate in /home/arch/.local/lib/python3.9/site-packages (from wbgapi) (0.8.9)\n",
      "Requirement already satisfied: PyYAML in /home/arch/.local/lib/python3.9/site-packages (from wbgapi) (6.0)\n",
      "Requirement already satisfied: requests in /home/arch/.local/lib/python3.9/site-packages (from wbgapi) (2.23.0)\n",
      "Requirement already satisfied: urllib3!=1.25.0,!=1.25.1,<1.26,>=1.21.1 in /home/arch/.local/lib/python3.9/site-packages (from requests->wbgapi) (1.22)\n",
      "Requirement already satisfied: chardet<4,>=3.0.2 in /home/arch/.local/lib/python3.9/site-packages (from requests->wbgapi) (3.0.4)\n",
      "Requirement already satisfied: certifi>=2017.4.17 in /home/arch/.local/lib/python3.9/site-packages (from requests->wbgapi) (2020.12.5)\n",
      "Requirement already satisfied: idna<3,>=2.5 in /home/arch/.local/lib/python3.9/site-packages (from requests->wbgapi) (2.6)\n",
      "\u001b[33mWARNING: You are using pip version 21.3.1; however, version 22.0.4 is available.\n",
      "You should consider upgrading via the '/storage/anaconda/bin/python -m pip install --upgrade pip' command.\u001b[0m\n",
      "Requirement already satisfied: darts in /home/arch/.local/lib/python3.9/site-packages (0.16.0)\n",
      "Requirement already satisfied: nfoursid>=0.1.0 in /home/arch/.local/lib/python3.9/site-packages (from darts) (0.1.0)\n",
      "Requirement already satisfied: numpy>=1.19.0 in /storage/anaconda/lib/python3.9/site-packages (from darts) (1.21.5)\n",
      "Requirement already satisfied: ipython>=7.0.0 in /home/arch/.local/lib/python3.9/site-packages (from darts) (8.0.0)\n",
      "Requirement already satisfied: prophet>=1.0.0 in /home/arch/.local/lib/python3.9/site-packages (from darts) (1.0.1)\n",
      "Requirement already satisfied: tensorboard>=2.4.0 in /home/arch/.local/lib/python3.9/site-packages (from darts) (2.7.0)\n",
      "Requirement already satisfied: torch>=1.8.0 in /storage/anaconda/lib/python3.9/site-packages (from darts) (1.11.0)\n",
      "Requirement already satisfied: statsmodels>=0.13.0 in /home/arch/.local/lib/python3.9/site-packages (from darts) (0.13.1)\n",
      "Requirement already satisfied: joblib>=0.16.0 in /home/arch/.local/lib/python3.9/site-packages (from darts) (1.1.0)\n",
      "Requirement already satisfied: pystan<3.0.0.0,>=2.19.1.1 in /home/arch/.local/lib/python3.9/site-packages (from darts) (2.19.1.1)\n",
      "Requirement already satisfied: requests>=2.22.0 in /home/arch/.local/lib/python3.9/site-packages (from darts) (2.23.0)\n",
      "Requirement already satisfied: pandas>=1.1.0 in /home/arch/.local/lib/python3.9/site-packages (from darts) (1.3.5)\n",
      "Requirement already satisfied: scipy>=1.3.2 in /home/arch/.local/lib/python3.9/site-packages (from darts) (1.7.3)\n",
      "Requirement already satisfied: xarray>=0.17.0 in /home/arch/.local/lib/python3.9/site-packages (from darts) (0.20.2)\n",
      "Requirement already satisfied: lightgbm>=2.2.3 in /home/arch/.local/lib/python3.9/site-packages (from darts) (3.3.2)\n",
      "Requirement already satisfied: pmdarima>=1.8.0 in /home/arch/.local/lib/python3.9/site-packages (from darts) (1.8.4)\n",
      "Requirement already satisfied: scikit-learn>=1.0.1 in /home/arch/.local/lib/python3.9/site-packages (from darts) (1.0.2)\n",
      "Requirement already satisfied: tqdm>=4.60.0 in /home/arch/.local/lib/python3.9/site-packages (from darts) (4.61.2)\n",
      "Requirement already satisfied: matplotlib>=3.3.0 in /home/arch/.local/lib/python3.9/site-packages (from darts) (3.5.1)\n",
      "Requirement already satisfied: holidays>=0.11.1 in /home/arch/.local/lib/python3.9/site-packages (from darts) (0.12)\n",
      "Requirement already satisfied: convertdate>=2.3.0 in /home/arch/.local/lib/python3.9/site-packages (from holidays>=0.11.1->darts) (2.3.2)\n",
      "Requirement already satisfied: korean-lunar-calendar in /home/arch/.local/lib/python3.9/site-packages (from holidays>=0.11.1->darts) (0.2.1)\n",
      "Requirement already satisfied: python-dateutil in /home/arch/.local/lib/python3.9/site-packages (from holidays>=0.11.1->darts) (2.8.2)\n",
      "Requirement already satisfied: hijri-converter in /home/arch/.local/lib/python3.9/site-packages (from holidays>=0.11.1->darts) (2.2.2)\n",
      "Requirement already satisfied: stack-data in /home/arch/.local/lib/python3.9/site-packages (from ipython>=7.0.0->darts) (0.1.3)\n",
      "Requirement already satisfied: matplotlib-inline in /home/arch/.local/lib/python3.9/site-packages (from ipython>=7.0.0->darts) (0.1.3)\n",
      "Requirement already satisfied: backcall in /home/arch/.local/lib/python3.9/site-packages (from ipython>=7.0.0->darts) (0.2.0)\n",
      "Requirement already satisfied: setuptools>=18.5 in /home/arch/.local/lib/python3.9/site-packages (from ipython>=7.0.0->darts) (60.5.0)\n",
      "Requirement already satisfied: decorator in /home/arch/.local/lib/python3.9/site-packages (from ipython>=7.0.0->darts) (4.4.2)\n",
      "Requirement already satisfied: pickleshare in /home/arch/.local/lib/python3.9/site-packages (from ipython>=7.0.0->darts) (0.7.5)\n",
      "Requirement already satisfied: traitlets>=5 in /home/arch/.local/lib/python3.9/site-packages (from ipython>=7.0.0->darts) (5.1.1)\n",
      "Requirement already satisfied: prompt-toolkit!=3.0.0,!=3.0.1,<3.1.0,>=2.0.0 in /home/arch/.local/lib/python3.9/site-packages (from ipython>=7.0.0->darts) (3.0.24)\n",
      "Requirement already satisfied: pygments in /home/arch/.local/lib/python3.9/site-packages (from ipython>=7.0.0->darts) (2.11.2)\n",
      "Requirement already satisfied: pexpect>4.3 in /home/arch/.local/lib/python3.9/site-packages (from ipython>=7.0.0->darts) (4.8.0)\n",
      "Requirement already satisfied: black in /home/arch/.local/lib/python3.9/site-packages (from ipython>=7.0.0->darts) (21.4b0)\n",
      "Requirement already satisfied: jedi>=0.16 in /home/arch/.local/lib/python3.9/site-packages (from ipython>=7.0.0->darts) (0.18.1)\n",
      "Requirement already satisfied: wheel in /home/arch/.local/lib/python3.9/site-packages (from lightgbm>=2.2.3->darts) (0.37.1)\n",
      "Requirement already satisfied: kiwisolver>=1.0.1 in /home/arch/.local/lib/python3.9/site-packages (from matplotlib>=3.3.0->darts) (1.3.2)\n",
      "Requirement already satisfied: packaging>=20.0 in /home/arch/.local/lib/python3.9/site-packages (from matplotlib>=3.3.0->darts) (21.3)\n",
      "Requirement already satisfied: pyparsing>=2.2.1 in /home/arch/.local/lib/python3.9/site-packages (from matplotlib>=3.3.0->darts) (3.0.6)\n",
      "Requirement already satisfied: fonttools>=4.22.0 in /home/arch/.local/lib/python3.9/site-packages (from matplotlib>=3.3.0->darts) (4.28.5)\n",
      "Requirement already satisfied: pillow>=6.2.0 in /home/arch/.local/lib/python3.9/site-packages (from matplotlib>=3.3.0->darts) (9.0.0)\n",
      "Requirement already satisfied: cycler>=0.10 in /home/arch/.local/lib/python3.9/site-packages (from matplotlib>=3.3.0->darts) (0.11.0)\n",
      "Requirement already satisfied: pytz>=2017.3 in /home/arch/.local/lib/python3.9/site-packages (from pandas>=1.1.0->darts) (2021.3)\n",
      "Requirement already satisfied: urllib3 in /home/arch/.local/lib/python3.9/site-packages (from pmdarima>=1.8.0->darts) (1.22)\n",
      "Requirement already satisfied: Cython!=0.29.18,>=0.29 in /home/arch/.local/lib/python3.9/site-packages (from pmdarima>=1.8.0->darts) (0.29.26)\n",
      "Requirement already satisfied: cmdstanpy==0.9.68 in /home/arch/.local/lib/python3.9/site-packages (from prophet>=1.0.0->darts) (0.9.68)\n",
      "Requirement already satisfied: LunarCalendar>=0.0.9 in /home/arch/.local/lib/python3.9/site-packages (from prophet>=1.0.0->darts) (0.0.9)\n",
      "Requirement already satisfied: setuptools-git>=1.2 in /home/arch/.local/lib/python3.9/site-packages (from prophet>=1.0.0->darts) (1.2)\n",
      "Requirement already satisfied: ujson in /home/arch/.local/lib/python3.9/site-packages (from cmdstanpy==0.9.68->prophet>=1.0.0->darts) (5.1.0)\n",
      "Requirement already satisfied: chardet<4,>=3.0.2 in /home/arch/.local/lib/python3.9/site-packages (from requests>=2.22.0->darts) (3.0.4)\n",
      "Requirement already satisfied: certifi>=2017.4.17 in /home/arch/.local/lib/python3.9/site-packages (from requests>=2.22.0->darts) (2020.12.5)\n",
      "Requirement already satisfied: idna<3,>=2.5 in /home/arch/.local/lib/python3.9/site-packages (from requests>=2.22.0->darts) (2.6)\n",
      "Requirement already satisfied: threadpoolctl>=2.0.0 in /home/arch/.local/lib/python3.9/site-packages (from scikit-learn>=1.0.1->darts) (3.0.0)\n",
      "Requirement already satisfied: patsy>=0.5.2 in /home/arch/.local/lib/python3.9/site-packages (from statsmodels>=0.13.0->darts) (0.5.2)\n",
      "Requirement already satisfied: markdown>=2.6.8 in /home/arch/.local/lib/python3.9/site-packages (from tensorboard>=2.4.0->darts) (3.3.6)\n",
      "Requirement already satisfied: tensorboard-data-server<0.7.0,>=0.6.0 in /home/arch/.local/lib/python3.9/site-packages (from tensorboard>=2.4.0->darts) (0.6.1)\n",
      "Requirement already satisfied: google-auth-oauthlib<0.5,>=0.4.1 in /home/arch/.local/lib/python3.9/site-packages (from tensorboard>=2.4.0->darts) (0.4.6)\n",
      "Requirement already satisfied: google-auth<3,>=1.6.3 in /home/arch/.local/lib/python3.9/site-packages (from tensorboard>=2.4.0->darts) (2.3.3)\n",
      "Requirement already satisfied: protobuf>=3.6.0 in /home/arch/.local/lib/python3.9/site-packages (from tensorboard>=2.4.0->darts) (3.19.3)\n",
      "Requirement already satisfied: grpcio>=1.24.3 in /home/arch/.local/lib/python3.9/site-packages (from tensorboard>=2.4.0->darts) (1.43.0)\n",
      "Requirement already satisfied: absl-py>=0.4 in /home/arch/.local/lib/python3.9/site-packages (from tensorboard>=2.4.0->darts) (1.0.0)\n",
      "Requirement already satisfied: werkzeug>=0.11.15 in /home/arch/.local/lib/python3.9/site-packages (from tensorboard>=2.4.0->darts) (2.0.1)\n",
      "Requirement already satisfied: tensorboard-plugin-wit>=1.6.0 in /home/arch/.local/lib/python3.9/site-packages (from tensorboard>=2.4.0->darts) (1.8.1)\n",
      "Requirement already satisfied: typing_extensions in /home/arch/.local/lib/python3.9/site-packages (from torch>=1.8.0->darts) (4.0.1)\n",
      "Requirement already satisfied: six in /home/arch/.local/lib/python3.9/site-packages (from absl-py>=0.4->tensorboard>=2.4.0->darts) (1.16.0)\n",
      "Requirement already satisfied: pymeeus<=1,>=0.3.13 in /home/arch/.local/lib/python3.9/site-packages (from convertdate>=2.3.0->holidays>=0.11.1->darts) (0.5.11)\n",
      "Requirement already satisfied: cachetools<5.0,>=2.0.0 in /home/arch/.local/lib/python3.9/site-packages (from google-auth<3,>=1.6.3->tensorboard>=2.4.0->darts) (4.2.4)\n",
      "Requirement already satisfied: rsa<5,>=3.1.4 in /home/arch/.local/lib/python3.9/site-packages (from google-auth<3,>=1.6.3->tensorboard>=2.4.0->darts) (4.8)\n",
      "Requirement already satisfied: pyasn1-modules>=0.2.1 in /home/arch/.local/lib/python3.9/site-packages (from google-auth<3,>=1.6.3->tensorboard>=2.4.0->darts) (0.2.8)\n",
      "Requirement already satisfied: requests-oauthlib>=0.7.0 in /home/arch/.local/lib/python3.9/site-packages (from google-auth-oauthlib<0.5,>=0.4.1->tensorboard>=2.4.0->darts) (1.3.0)\n",
      "Requirement already satisfied: parso<0.9.0,>=0.8.0 in /home/arch/.local/lib/python3.9/site-packages (from jedi>=0.16->ipython>=7.0.0->darts) (0.8.3)\n",
      "Requirement already satisfied: ephem>=3.7.5.3 in /home/arch/.local/lib/python3.9/site-packages (from LunarCalendar>=0.0.9->prophet>=1.0.0->darts) (4.1.3)\n",
      "Requirement already satisfied: importlib-metadata>=4.4 in /home/arch/.local/lib/python3.9/site-packages (from markdown>=2.6.8->tensorboard>=2.4.0->darts) (4.10.0)\n",
      "Requirement already satisfied: ptyprocess>=0.5 in /home/arch/.local/lib/python3.9/site-packages (from pexpect>4.3->ipython>=7.0.0->darts) (0.7.0)\n",
      "Requirement already satisfied: wcwidth in /home/arch/.local/lib/python3.9/site-packages (from prompt-toolkit!=3.0.0,!=3.0.1,<3.1.0,>=2.0.0->ipython>=7.0.0->darts) (0.2.5)\n",
      "Requirement already satisfied: appdirs in /home/arch/.local/lib/python3.9/site-packages (from black->ipython>=7.0.0->darts) (1.4.4)\n",
      "Requirement already satisfied: toml>=0.10.1 in /home/arch/.local/lib/python3.9/site-packages (from black->ipython>=7.0.0->darts) (0.10.2)\n",
      "Requirement already satisfied: regex>=2020.1.8 in /home/arch/.local/lib/python3.9/site-packages (from black->ipython>=7.0.0->darts) (2021.11.10)\n",
      "Requirement already satisfied: pathspec<1,>=0.6 in /home/arch/.local/lib/python3.9/site-packages (from black->ipython>=7.0.0->darts) (0.8.1)\n",
      "Requirement already satisfied: click>=7.1.2 in /home/arch/.local/lib/python3.9/site-packages (from black->ipython>=7.0.0->darts) (8.0.1)\n",
      "Requirement already satisfied: mypy-extensions>=0.4.3 in /home/arch/.local/lib/python3.9/site-packages (from black->ipython>=7.0.0->darts) (0.4.3)\n",
      "Requirement already satisfied: pure-eval in /home/arch/.local/lib/python3.9/site-packages (from stack-data->ipython>=7.0.0->darts) (0.2.1)\n",
      "Requirement already satisfied: asttokens in /home/arch/.local/lib/python3.9/site-packages (from stack-data->ipython>=7.0.0->darts) (2.0.5)\n",
      "Requirement already satisfied: executing in /home/arch/.local/lib/python3.9/site-packages (from stack-data->ipython>=7.0.0->darts) (0.8.2)\n",
      "Requirement already satisfied: zipp>=0.5 in /home/arch/.local/lib/python3.9/site-packages (from importlib-metadata>=4.4->markdown>=2.6.8->tensorboard>=2.4.0->darts) (3.7.0)\n",
      "Requirement already satisfied: pyasn1<0.5.0,>=0.4.6 in /home/arch/.local/lib/python3.9/site-packages (from pyasn1-modules>=0.2.1->google-auth<3,>=1.6.3->tensorboard>=2.4.0->darts) (0.4.8)\n",
      "Requirement already satisfied: oauthlib>=3.0.0 in /home/arch/.local/lib/python3.9/site-packages (from requests-oauthlib>=0.7.0->google-auth-oauthlib<0.5,>=0.4.1->tensorboard>=2.4.0->darts) (3.1.1)\n",
      "\u001b[33mWARNING: You are using pip version 21.3.1; however, version 22.0.4 is available.\n",
      "You should consider upgrading via the '/storage/anaconda/bin/python -m pip install --upgrade pip' command.\u001b[0m\n"
     ]
    }
   ],
   "source": [
    "!pip install wbgapi\n",
    "!pip install darts"
   ]
  },
  {
   "cell_type": "code",
   "execution_count": 1,
   "metadata": {},
   "outputs": [],
   "source": [
    "import wbgapi as wb"
   ]
  },
  {
   "cell_type": "code",
   "execution_count": null,
   "metadata": {},
   "outputs": [],
   "source": [
    "fresh_water = wb.data.DataFrame(\"SP.POP.GROW\")"
   ]
  },
  {
   "cell_type": "code",
   "execution_count": null,
   "metadata": {},
   "outputs": [],
   "source": [
    "\n",
    "fresh_trans = fresh_water.T\n",
    "fresh_trans"
   ]
  },
  {
   "cell_type": "code",
   "execution_count": null,
   "metadata": {},
   "outputs": [],
   "source": [
    "\n",
    "\n",
    "fresh_series = fresh_trans['WLD']\n",
    "fresh_series"
   ]
  },
  {
   "cell_type": "code",
   "execution_count": null,
   "metadata": {},
   "outputs": [],
   "source": [
    "\n",
    "\n",
    "fresh_urban = wb.data.DataFrame(\"EN.ATM.METH.KT.CE\")\n",
    "fresh_trans = fresh_urban.T\n",
    "fresh_trans\n",
    "meth_series = fresh_trans['WLD']\n",
    "meth_series"
   ]
  },
  {
   "cell_type": "code",
   "execution_count": null,
   "metadata": {},
   "outputs": [],
   "source": [
    "\n",
    "\n",
    "meth_series.corr(fresh_series, method='pearson')"
   ]
  },
  {
   "cell_type": "code",
   "execution_count": null,
   "metadata": {},
   "outputs": [],
   "source": [
    "\n",
    "import matplotlib as plt\n",
    "global_change= fresh_trans[[\"WLD\"]]\n",
    "change = fresh_trans['WLD']\n",
    "global_change.plot(kind= \"bar\",  figsize=(15, 5), title= \"Fresh Water\")"
   ]
  },
  {
   "cell_type": "code",
   "execution_count": null,
   "metadata": {},
   "outputs": [],
   "source": [
    "\n",
    "\n",
    "change.plot(kind= \"bar\",  figsize=(15, 5), title= \"urban population\")"
   ]
  },
  {
   "cell_type": "code",
   "execution_count": null,
   "metadata": {},
   "outputs": [],
   "source": [
    "\n",
    "from darts import TimeSeries\n",
    "import pandas as pd"
   ]
  },
  {
   "cell_type": "code",
   "execution_count": null,
   "metadata": {},
   "outputs": [],
   "source": [
    "\n",
    "pop_frame = fresh_series.to_frame().reset_index()\n",
    "pop_frame\n",
    "pop_frame.reset_index(drop=True, inplace=True)\n",
    "#pop_frame.drop(['index'])\n",
    "pop_frame.insert(0, 'Index', range(1960, 1960 + len(pop_frame)))\n",
    "pop_frame.set_index('Index', inplace=True)\n",
    "x = pop_frame.reset_index()\n",
    "x.reset_index()\n",
    "pop_re = x.drop(['index'], axis =1)\n",
    "pop_re\n",
    "pop_res = pop_re.set_index(['Index'])\n",
    "pop_res"
   ]
  },
  {
   "cell_type": "code",
   "execution_count": null,
   "metadata": {},
   "outputs": [],
   "source": [
    "fresh_series = TimeSeries.from_dataframe(pop_res)"
   ]
  },
  {
   "cell_type": "code",
   "execution_count": null,
   "metadata": {
    "tags": []
   },
   "outputs": [],
   "source": [
    "\n",
    "fresh_series.plot(label=\"fresh water series\")"
   ]
  },
  {
   "cell_type": "code",
   "execution_count": null,
   "metadata": {
    "collapsed": true,
    "jupyter": {
     "outputs_hidden": true
    },
    "tags": []
   },
   "outputs": [],
   "source": [
    "# train test\n",
    "train, val = fresh_series[:-10], fresh_series[-30:]\n",
    "train"
   ]
  },
  {
   "cell_type": "code",
   "execution_count": 14,
   "metadata": {},
   "outputs": [
    {
     "name": "stderr",
     "output_type": "stream",
     "text": [
      "/home/arch/.local/lib/python3.9/site-packages/statsmodels/tsa/holtwinters/model.py:915: ConvergenceWarning: Optimization failed to converge. Check mle_retvals.\n",
      "  warnings.warn(\n"
     ]
    }
   ],
   "source": [
    "\n",
    "from darts.models import ExponentialSmoothing\n",
    "\n",
    "model = ExponentialSmoothing()\n",
    "model.fit(train)\n",
    "prediction = model.predict(len(val), num_samples=1000)"
   ]
  },
  {
   "cell_type": "code",
   "execution_count": 16,
   "metadata": {
    "tags": []
   },
   "outputs": [
    {
     "name": "stderr",
     "output_type": "stream",
     "text": [
      "/storage/anaconda/lib/python3.9/site-packages/numpy/lib/nanfunctions.py:1389: RuntimeWarning: All-NaN slice encountered\n",
      "  result = np.apply_along_axis(_nanquantile_1d, axis, a, q,\n",
      "/storage/anaconda/lib/python3.9/site-packages/numpy/lib/nanfunctions.py:1389: RuntimeWarning: All-NaN slice encountered\n",
      "  result = np.apply_along_axis(_nanquantile_1d, axis, a, q,\n"
     ]
    },
    {
     "data": {
      "text/plain": [
       "<matplotlib.legend.Legend at 0x7f6587b101c0>"
      ]
     },
     "execution_count": 16,
     "metadata": {},
     "output_type": "execute_result"
    },
    {
     "data": {
      "image/png": "[encoded data removed]",
      "text/plain": [
       "<Figure size 432x288 with 1 Axes>"
      ]
     },
     "metadata": {
      "needs_background": "light"
     },
     "output_type": "display_data"
    }
   ],
   "source": [
    "import matplotlib.pyplot as plt\n",
    "\n",
    "meth_series.plot()\n",
    "prediction.plot(label='forecast', low_quantile=0.9, high_quantile=0.9)\n",
    "plt.legend()"
   ]
  },
  {
   "cell_type": "code",
   "execution_count": null,
   "metadata": {},
   "outputs": [],
   "source": [
    "meth_frame = meth_series.to_frame().reset_index()\n",
    "meth_frame\n",
    "meth_frame.reset_index(drop=True, inplace=True)\n",
    "meth_frame\n",
    "#meth_frame.drop(['index'])\n",
    "meth_frame.insert(0, 'Index', range(1960, 1960 + len(meth_frame)))\n",
    "meth_frame\n",
    "meth_frame.set_index('Index', inplace=True)\n",
    "meth_frame\n",
    "x = meth_frame.reset_index()\n",
    "x.reset_index()\n",
    "meth_re = x.drop(['index'], axis =1)\n",
    "meth_re.rename(columns={'Index': 'index'})\n",
    "meth_res = meth_re.set_index(['index'])\n",
    "meth_res"
   ]
  },
  {
   "cell_type": "code",
   "execution_count": 19,
   "metadata": {},
   "outputs": [
    {
     "data": {
      "text/plain": [
       "<matplotlib.legend.Legend at 0x7f65872a5130>"
      ]
     },
     "execution_count": 19,
     "metadata": {},
     "output_type": "execute_result"
    },
    {
     "data": {
      "image/png": "[encoded data removed]",
      "text/plain": [
       "<Figure size 432x288 with 1 Axes>"
      ]
     },
     "metadata": {
      "needs_background": "light"
     },
     "output_type": "display_data"
    }
   ],
   "source": [
    "meth_series.plot(label=\"urban population\")\n",
    "plt.legend(loc= \"upper right\")"
   ]
  },
  {
   "cell_type": "code",
   "execution_count": 20,
   "metadata": {},
   "outputs": [
    {
     "data": {
      "text/plain": [
       "YR1960             NaN\n",
       "YR1961             NaN\n",
       "YR1962             NaN\n",
       "YR1963             NaN\n",
       "YR1964             NaN\n",
       "YR1965             NaN\n",
       "YR1966             NaN\n",
       "YR1967             NaN\n",
       "YR1968             NaN\n",
       "YR1969             NaN\n",
       "YR1970    5.294459e+06\n",
       "YR1971    5.133799e+06\n",
       "YR1972    5.348885e+06\n",
       "YR1973    5.409389e+06\n",
       "YR1974    5.366479e+06\n",
       "YR1975    5.490220e+06\n",
       "YR1976    5.636323e+06\n",
       "YR1977    5.783159e+06\n",
       "YR1978    5.782389e+06\n",
       "YR1979    5.959260e+06\n",
       "YR1980    5.997922e+06\n",
       "YR1981    5.858004e+06\n",
       "YR1982    6.275399e+06\n",
       "YR1983    6.126519e+06\n",
       "YR1984    5.973201e+06\n",
       "YR1985    6.025375e+06\n",
       "YR1986    6.184971e+06\n",
       "YR1987    6.449419e+06\n",
       "YR1988    6.276210e+06\n",
       "YR1989    6.416173e+06\n",
       "YR1990    6.898360e+06\n",
       "YR1991    6.875120e+06\n",
       "YR1992    6.810430e+06\n",
       "YR1993    6.789110e+06\n",
       "YR1994    6.763240e+06\n",
       "YR1995    6.773440e+06\n",
       "YR1996    6.790740e+06\n",
       "YR1997    6.749630e+06\n",
       "YR1998    6.758180e+06\n",
       "YR1999    6.808320e+06\n",
       "YR2000    6.859450e+06\n",
       "YR2001    6.913060e+06\n",
       "YR2002    6.973040e+06\n",
       "YR2003    7.062720e+06\n",
       "YR2004    7.168060e+06\n",
       "YR2005    7.225520e+06\n",
       "YR2006    7.359290e+06\n",
       "YR2007    7.473250e+06\n",
       "YR2008    7.585770e+06\n",
       "YR2009    7.591370e+06\n",
       "YR2010    7.704390e+06\n",
       "YR2011    7.807040e+06\n",
       "Name: WLD, dtype: float64"
      ]
     },
     "execution_count": 20,
     "metadata": {},
     "output_type": "execute_result"
    }
   ],
   "source": [
    "# train test\n",
    "train, val = meth_series[:-10], meth_series[-30:]\n",
    "train"
   ]
  },
  {
   "cell_type": "code",
   "execution_count": null,
   "metadata": {},
   "outputs": [],
   "source": [
    "\n",
    "from darts.models import ExponentialSmoothing\n",
    "\n",
    "model = ExponentialSmoothing()\n",
    "model.fit(train)\n",
    "prediction = model.predict(len(val), num_samples=1000)"
   ]
  },
  {
   "cell_type": "code",
   "execution_count": 179,
   "metadata": {},
   "outputs": [
    {
     "name": "stderr",
     "output_type": "stream",
     "text": [
      "/storage/anaconda/lib/python3.9/site-packages/numpy/lib/nanfunctions.py:1389: RuntimeWarning: All-NaN slice encountered\n",
      "  result = np.apply_along_axis(_nanquantile_1d, axis, a, q,\n",
      "/storage/anaconda/lib/python3.9/site-packages/numpy/lib/nanfunctions.py:1389: RuntimeWarning: All-NaN slice encountered\n",
      "  result = np.apply_along_axis(_nanquantile_1d, axis, a, q,\n"
     ]
    },
    {
     "data": {
      "text/plain": [
       "<matplotlib.legend.Legend at 0x7f20acbb1f40>"
      ]
     },
     "execution_count": 179,
     "metadata": {},
     "output_type": "execute_result"
    },
    {
     "data": {
      "image/png": "[encoded data removed]",
      "text/plain": [
       "<Figure size 432x288 with 1 Axes>"
      ]
     },
     "metadata": {
      "needs_background": "light"
     },
     "output_type": "display_data"
    }
   ],
   "source": [
    "import matplotlib.pyplot as plt\n",
    "\n",
    "series.plot()\n",
    "prediction.plot(label='forecast', low_quantile=0.9, high_quantile=0.9)\n",
    "plt.legend()"
   ]
  }
 ],
 "metadata": {
  "kernelspec": {
   "display_name": "Python 3",
   "language": "python",
   "name": "python3"
  },
  "language_info": {
   "codemirror_mode": {
    "name": "ipython",
    "version": 3
   },
   "file_extension": ".py",
   "mimetype": "text/x-python",
   "name": "python",
   "nbconvert_exporter": "python",
   "pygments_lexer": "ipython3",
   "version": "3.8.5"
  }
 },
 "nbformat": 4,
 "nbformat_minor": 5
}
